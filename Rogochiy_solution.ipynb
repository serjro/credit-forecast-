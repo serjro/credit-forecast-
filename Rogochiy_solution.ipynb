{
 "cells": [
  {
   "cell_type": "markdown",
   "metadata": {},
   "source": [
    "## <center>Курсовой проект<a class=\"anchor\" id=\"course_project\"></a><center>"
   ]
  },
  {
   "cell_type": "markdown",
   "metadata": {},
   "source": [
    "### Постановка задачи<a class=\"anchor\" id=\"course_project_task\"></a>"
   ]
  },
  {
   "cell_type": "markdown",
   "metadata": {},
   "source": [
    "**Задача**\n",
    "\n",
    "Требуется, на основании имеющихся данных о клиентах банка, построить модель, используя обучающий датасет, для прогнозирования невыполнения долговых обязательств по текущему кредиту. Выполнить прогноз для примеров из тестового датасета.\n",
    "\n",
    "**Наименование файлов с данными**\n",
    "\n",
    "course_project_train.csv - обучающий датасет<br>\n",
    "course_project_test.csv - тестовый датасет\n",
    "\n",
    "**Целевая переменная**\n",
    "\n",
    "Credit Default - факт невыполнения кредитных обязательств\n",
    "\n",
    "**Метрика качества**\n",
    "\n",
    "F1-score (sklearn.metrics.f1_score)\n",
    "\n",
    "**Требования к решению**\n",
    "\n",
    "*Целевая метрика*\n",
    "* F1 > 0.5\n",
    "* Метрика оценивается по качеству прогноза для главного класса (1 - просрочка по кредиту)\n",
    "\n",
    "*Решение должно содержать*\n",
    "1. Тетрадка Jupyter Notebook с кодом Вашего решения, названная по образцу {ФИО}\\_solution.ipynb, пример SShirkin\\_solution.ipynb\n",
    "2. Файл CSV с прогнозами целевой переменной для тестового датасета, названный по образцу {ФИО}\\_predictions.csv, пример SShirkin\\_predictions.csv\n",
    "\n",
    "*Рекомендации для файла с кодом (ipynb)*\n",
    "1. Файл должен содержать заголовки и комментарии (markdown)\n",
    "2. Повторяющиеся операции лучше оформлять в виде функций\n",
    "3. Не делать вывод большого количества строк таблиц (5-10 достаточно)\n",
    "4. По возможности добавлять графики, описывающие данные (около 3-5)\n",
    "5. Добавлять только лучшую модель, то есть не включать в код все варианты решения проекта\n",
    "6. Скрипт проекта должен отрабатывать от начала и до конца (от загрузки данных до выгрузки предсказаний)\n",
    "7. Весь проект должен быть в одном скрипте (файл ipynb).\n",
    "8. Допускается применение библиотек Python и моделей машинного обучения,\n",
    "которые были в данном курсе.\n",
    "\n",
    "**Сроки сдачи**\n",
    "\n",
    "Cдать проект нужно в течение 5 дней после окончания последнего вебинара.\n",
    "Оценки работ, сданных до дедлайна, будут представлены в виде рейтинга, ранжированного по заданной метрике качества.\n",
    "Проекты, сданные после дедлайна или сданные повторно, не попадают в рейтинг, но можно будет узнать результат."
   ]
  },
  {
   "cell_type": "markdown",
   "metadata": {},
   "source": [
    "### Примерное описание этапов выполнения курсового проекта<a class=\"anchor\" id=\"course_project_steps\"></a>"
   ]
  },
  {
   "cell_type": "markdown",
   "metadata": {},
   "source": [
    "**Построение модели классификации**\n",
    "1. Обзор обучающего датасета\n",
    "2. Обработка выбросов\n",
    "3. Обработка пропусков\n",
    "4. Анализ данных\n",
    "5. Отбор признаков\n",
    "6. Балансировка классов\n",
    "7. Подбор моделей, получение бейзлана\n",
    "8. Выбор наилучшей модели, настройка гиперпараметров\n",
    "9. Проверка качества, борьба с переобучением\n",
    "10. Интерпретация результатов\n",
    "\n",
    "**Прогнозирование на тестовом датасете**\n",
    "1. Выполнить для тестового датасета те же этапы обработки и постронияния признаков\n",
    "2. Спрогнозировать целевую переменную, используя модель, построенную на обучающем датасете\n",
    "3. Прогнозы должны быть для всех примеров из тестового датасета (для всех строк)\n",
    "4. Соблюдать исходный порядок примеров из тестового датасета"
   ]
  },
  {
   "cell_type": "markdown",
   "metadata": {},
   "source": [
    "### Обзор данных<a class=\"anchor\" id=\"course_project_review\"></a>"
   ]
  },
  {
   "cell_type": "markdown",
   "metadata": {},
   "source": [
    "**Описание датасета**\n",
    "\n",
    "* **Home Ownership** - домовладение\n",
    "* **Annual Income** - годовой доход\n",
    "* **Years in current job** - количество лет на текущем месте работы\n",
    "* **Tax Liens** - налоговые обременения\n",
    "* **Number of Open Accounts** - количество открытых счетов\n",
    "* **Years of Credit History** - количество лет кредитной истории\n",
    "* **Maximum Open Credit** - наибольший открытый кредит\n",
    "* **Number of Credit Problems** - количество проблем с кредитом\n",
    "* **Months since last delinquent** - количество месяцев с последней просрочки платежа\n",
    "* **Bankruptcies** - банкротства\n",
    "* **Purpose** - цель кредита\n",
    "* **Term** - срок кредита\n",
    "* **Current Loan Amount** - текущая сумма кредита\n",
    "* **Current Credit Balance** - текущий кредитный баланс\n",
    "* **Monthly Debt** - ежемесячный долг\n",
    "* **Credit Default** - факт невыполнения кредитных обязательств (0 - погашен вовремя, 1 - просрочка)"
   ]
  },
  {
   "cell_type": "markdown",
   "metadata": {},
   "source": [
    "### Используемые библиотеки"
   ]
  },
  {
   "cell_type": "code",
   "execution_count": 1,
   "metadata": {},
   "outputs": [],
   "source": [
    "import numpy as np\n",
    "import pandas as pd\n",
    "import seaborn as sns\n",
    "import lightgbm as lgb\n",
    "#from paramsearch import paramsearch\n",
    "from itertools import product,chain\n",
    "from sklearn.utils.class_weight import compute_class_weight\n",
    "from matplotlib import pyplot as plt\n",
    "%matplotlib inline\n",
    "from sklearn.model_selection import KFold\n",
    "from sklearn.model_selection import train_test_split, ShuffleSplit, cross_val_score, learning_curve\n",
    "from sklearn.metrics import classification_report, f1_score, precision_score, recall_score\n",
    "from sklearn.linear_model import LogisticRegression, SGDClassifier, RidgeClassifier,RidgeClassifier\n",
    "from sklearn.neighbors import KNeighborsClassifier\n",
    "import xgboost as xgb, lightgbm as lgbm, catboost as cb\n",
    "import warnings\n",
    "warnings.filterwarnings('ignore')"
   ]
  },
  {
   "cell_type": "markdown",
   "metadata": {},
   "source": [
    "### Пути к директориям и файлам"
   ]
  },
  {
   "cell_type": "code",
   "execution_count": 2,
   "metadata": {},
   "outputs": [],
   "source": [
    "TRAIN_DATASET_PATH = 'course_project_train.csv'\n",
    "TEST_DATASET_PATH = 'course_project_test.csv'"
   ]
  },
  {
   "cell_type": "markdown",
   "metadata": {},
   "source": [
    "### Загрузка данных"
   ]
  },
  {
   "cell_type": "code",
   "execution_count": 3,
   "metadata": {},
   "outputs": [],
   "source": [
    "df_train = pd.read_csv(TRAIN_DATASET_PATH)\n",
    "df_test = pd.read_csv(TEST_DATASET_PATH)"
   ]
  },
  {
   "cell_type": "markdown",
   "metadata": {},
   "source": [
    "### Используемые функции"
   ]
  },
  {
   "cell_type": "code",
   "execution_count": 4,
   "metadata": {},
   "outputs": [],
   "source": [
    "def get_classification_report(y_train_true, y_train_pred, y_test_true, y_test_pred):\n",
    "    print('TRAIN\\n\\n' + classification_report(y_train_true, y_train_pred))\n",
    "    print('TEST\\n\\n' + classification_report(y_test_true, y_test_pred))\n",
    "    print('CONFUSION MATRIX\\n')\n",
    "    print(pd.crosstab(y_test_true, y_test_pred))\n",
    "\n",
    "def balance_df_by_target(df, target_name):\n",
    "\n",
    "    target_counts = df[target_name].value_counts()\n",
    "\n",
    "    major_class_name = target_counts.argmax()\n",
    "    minor_class_name = target_counts.argmin()\n",
    "\n",
    "    disbalance_coeff = int(target_counts[major_class_name] / target_counts[minor_class_name]) - 1\n",
    "\n",
    "    for i in range(disbalance_coeff):\n",
    "        sample = df[df[target_name] == minor_class_name].sample(target_counts[minor_class_name])\n",
    "        df = df.append(sample, ignore_index=True)\n",
    "\n",
    "    return df.sample(frac=1) \n",
    "\n",
    "def show_feature_importances(feature_names, feature_importances, get_top=None):\n",
    "    feature_importances = pd.DataFrame({'feature': feature_names, 'importance': feature_importances})\n",
    "    feature_importances = feature_importances.sort_values('importance', ascending=False)\n",
    "       \n",
    "    plt.figure(figsize = (20, len(feature_importances) * 0.355))\n",
    "    \n",
    "    sns.barplot(feature_importances['importance'], feature_importances['feature'])\n",
    "    \n",
    "    plt.xlabel('Importance')\n",
    "    plt.title('Importance of features')\n",
    "    plt.show()\n",
    "    \n",
    "    if get_top is not None:\n",
    "        return feature_importances['feature'][:get_top].tolist()\n",
    "    \n",
    "def show_proba_calibration_plots(y_predicted_probs, y_true_labels):\n",
    "    preds_with_true_labels = np.array(list(zip(y_predicted_probs, y_true_labels)))\n",
    "\n",
    "    thresholds = []\n",
    "    precisions = []\n",
    "    recalls = []\n",
    "    f1_scores = []\n",
    "\n",
    "    for threshold in np.linspace(0.1, 0.9, 9):\n",
    "        thresholds.append(threshold)\n",
    "        precisions.append(precision_score(y_true_labels, list(map(int, y_predicted_probs > threshold))))\n",
    "        recalls.append(recall_score(y_true_labels, list(map(int, y_predicted_probs > threshold))))\n",
    "        f1_scores.append(f1_score(y_true_labels, list(map(int, y_predicted_probs > threshold))))\n",
    "\n",
    "    scores_table = pd.DataFrame({'f1':f1_scores,\n",
    "                                 'precision':precisions,\n",
    "                                 'recall':recalls,\n",
    "                                 'probability':thresholds}).sort_values('f1', ascending=False).round(3)\n",
    "  \n",
    "    figure = plt.figure(figsize = (15, 5))\n",
    "\n",
    "    plt1 = figure.add_subplot(121)\n",
    "    plt1.plot(thresholds, precisions, label='Precision', linewidth=4)\n",
    "    plt1.plot(thresholds, recalls, label='Recall', linewidth=4)\n",
    "    plt1.plot(thresholds, f1_scores, label='F1', linewidth=4)\n",
    "    plt1.set_ylabel('Scores')\n",
    "    plt1.set_xlabel('Probability threshold')\n",
    "    plt1.set_title('Probabilities threshold calibration')\n",
    "    plt1.legend(bbox_to_anchor=(0.25, 0.25))   \n",
    "    plt1.table(cellText = scores_table.values,\n",
    "               colLabels = scores_table.columns, \n",
    "               colLoc = 'center', cellLoc = 'center', loc = 'bottom', bbox = [0, -1.3, 1, 1])\n",
    "\n",
    "    plt2 = figure.add_subplot(122)\n",
    "    plt2.hist(preds_with_true_labels[preds_with_true_labels[:, 1] == 0][:, 0], \n",
    "              label='Another class', color='royalblue', alpha=1)\n",
    "    plt2.hist(preds_with_true_labels[preds_with_true_labels[:, 1] == 1][:, 0], \n",
    "              label='Main class', color='darkcyan', alpha=0.8)\n",
    "    plt2.set_ylabel('Number of examples')\n",
    "    plt2.set_xlabel('Probabilities')\n",
    "    plt2.set_title('Probability histogram')\n",
    "    plt2.legend(bbox_to_anchor=(1, 1))\n",
    "\n",
    "    plt.show()\n",
    "    \n",
    "def show_learning_curve_plot(estimator, X, y, cv=3, n_jobs=-1, train_sizes=np.linspace(.1, 1.0, 5)):\n",
    "\n",
    "    train_sizes, train_scores, test_scores = learning_curve(estimator, X, y, \n",
    "                                                            cv=cv, \n",
    "                                                            scoring='f1',\n",
    "                                                            train_sizes=train_sizes, \n",
    "                                                            n_jobs=n_jobs)\n",
    "    train_scores_mean = np.mean(train_scores, axis=1)\n",
    "    train_scores_std = np.std(train_scores, axis=1)\n",
    "    test_scores_mean = np.mean(test_scores, axis=1)\n",
    "    test_scores_std = np.std(test_scores, axis=1)\n",
    "\n",
    "    plt.figure(figsize=(15,8))\n",
    "    plt.fill_between(train_sizes, train_scores_mean - train_scores_std,\n",
    "                     train_scores_mean + train_scores_std, alpha=0.1, color=\"r\")\n",
    "    plt.fill_between(train_sizes, test_scores_mean - test_scores_std,\n",
    "                     test_scores_mean + test_scores_std, alpha=0.1, color=\"g\")\n",
    "    plt.plot(train_sizes, train_scores_mean, 'o-', color=\"r\",\n",
    "             label=\"Training score\")\n",
    "    plt.plot(train_sizes, test_scores_mean, 'o-', color=\"g\",\n",
    "             label=\"Cross-validation score\")\n",
    "\n",
    "    plt.title(f\"Learning curves ({type(estimator).__name__})\")\n",
    "    plt.xlabel(\"Training examples\")\n",
    "    plt.ylabel(\"Score\")     \n",
    "    plt.legend(loc=\"best\")\n",
    "    plt.grid()\n",
    "    plt.show()\n",
    "\n",
    "def optimizing_df(df):\n",
    "    for col in df.columns:\n",
    "        if df[col].dtypes.kind == 'i' or df[col].dtypes.kind == 'u':\n",
    "            if df[col].min() >= 0:\n",
    "                df[col] = pd.to_numeric(df[col], downcast='unsigned')\n",
    "            else:\n",
    "                df[col] = pd.to_numeric(df[col], downcast='integer')\n",
    "\n",
    "        elif df[col].dtypes.kind == 'f' or df[col].dtypes.kind == 'c':\n",
    "            df[col] = pd.to_numeric(df[col], downcast='float')\n",
    "\n",
    "        elif df[col].dtypes.kind == 'O':\n",
    "            num_unique_values = len(df[col].unique())\n",
    "            num_total_values = len(df[col])\n",
    "            if num_unique_values / num_total_values < 0.5:\n",
    "                df[col] = df[col].astype('category')\n",
    "\n",
    "    return df\n",
    "\n",
    "def df_del_missing(df):\n",
    "    df_na = (df.isnull().sum() / len(df)) * 100\n",
    "    df_na = df_na.drop(\n",
    "        df_na[df_na == 0].index).sort_values(ascending=False)\n",
    "    df_na = list(df_na.index)\n",
    "    df.drop(df_na, axis=1, inplace=True)\n",
    "    return df\n",
    "\n",
    "def df_fil_na(df,ndx):\n",
    "    for cur in ndx:\n",
    "        df[cur] = df[cur].fillna(df[cur].mean())\n",
    "    return df\n",
    "\n",
    "def data_prepare(df):\n",
    "    #df = df_del_missing(df)\n",
    "    optimizing_df(df)\n",
    "    return df"
   ]
  },
  {
   "cell_type": "markdown",
   "metadata": {},
   "source": [
    "### Анализ входных данных"
   ]
  },
  {
   "cell_type": "code",
   "execution_count": 5,
   "metadata": {},
   "outputs": [
    {
     "data": {
      "text/plain": [
       "(7500, 17)"
      ]
     },
     "execution_count": 5,
     "metadata": {},
     "output_type": "execute_result"
    }
   ],
   "source": [
    "df_train.shape"
   ]
  },
  {
   "cell_type": "code",
   "execution_count": 6,
   "metadata": {},
   "outputs": [
    {
     "data": {
      "text/plain": [
       "Index(['Home Ownership', 'Annual Income', 'Years in current job', 'Tax Liens',\n",
       "       'Number of Open Accounts', 'Years of Credit History',\n",
       "       'Maximum Open Credit', 'Number of Credit Problems',\n",
       "       'Months since last delinquent', 'Bankruptcies', 'Purpose', 'Term',\n",
       "       'Current Loan Amount', 'Current Credit Balance', 'Monthly Debt',\n",
       "       'Credit Score', 'Credit Default'],\n",
       "      dtype='object')"
      ]
     },
     "execution_count": 6,
     "metadata": {},
     "output_type": "execute_result"
    }
   ],
   "source": [
    "df_train.columns"
   ]
  },
  {
   "cell_type": "code",
   "execution_count": 7,
   "metadata": {},
   "outputs": [
    {
     "name": "stdout",
     "output_type": "stream",
     "text": [
      "['debt consolidation' 'other' 'home improvements' 'take a trip'\n",
      " 'buy a car' 'small business' 'business loan' 'wedding'\n",
      " 'educational expenses' 'buy house' 'medical bills' 'moving'\n",
      " 'major purchase' 'vacation' 'renewable energy']\n"
     ]
    }
   ],
   "source": [
    "dd=df_train['Purpose'].unique()\n",
    "print(dd)"
   ]
  },
  {
   "cell_type": "code",
   "execution_count": 8,
   "metadata": {},
   "outputs": [
    {
     "data": {
      "text/plain": [
       "Home Ownership                   object\n",
       "Annual Income                   float64\n",
       "Years in current job             object\n",
       "Tax Liens                       float64\n",
       "Number of Open Accounts         float64\n",
       "Years of Credit History         float64\n",
       "Maximum Open Credit             float64\n",
       "Number of Credit Problems       float64\n",
       "Months since last delinquent    float64\n",
       "Bankruptcies                    float64\n",
       "Purpose                          object\n",
       "Term                             object\n",
       "Current Loan Amount             float64\n",
       "Current Credit Balance          float64\n",
       "Monthly Debt                    float64\n",
       "Credit Score                    float64\n",
       "Credit Default                    int64\n",
       "dtype: object"
      ]
     },
     "execution_count": 8,
     "metadata": {},
     "output_type": "execute_result"
    }
   ],
   "source": [
    "df_train.dtypes"
   ]
  },
  {
   "cell_type": "markdown",
   "metadata": {},
   "source": [
    "### Поиск пустых значений"
   ]
  },
  {
   "cell_type": "code",
   "execution_count": 9,
   "metadata": {},
   "outputs": [
    {
     "name": "stdout",
     "output_type": "stream",
     "text": [
      "all_data size is : (7500, 17)\n"
     ]
    },
    {
     "data": {
      "text/html": [
       "<div>\n",
       "<style scoped>\n",
       "    .dataframe tbody tr th:only-of-type {\n",
       "        vertical-align: middle;\n",
       "    }\n",
       "\n",
       "    .dataframe tbody tr th {\n",
       "        vertical-align: top;\n",
       "    }\n",
       "\n",
       "    .dataframe thead th {\n",
       "        text-align: right;\n",
       "    }\n",
       "</style>\n",
       "<table border=\"1\" class=\"dataframe\">\n",
       "  <thead>\n",
       "    <tr style=\"text-align: right;\">\n",
       "      <th></th>\n",
       "      <th>Missing Ratio</th>\n",
       "    </tr>\n",
       "  </thead>\n",
       "  <tbody>\n",
       "    <tr>\n",
       "      <th>Months since last delinquent</th>\n",
       "      <td>54.413333</td>\n",
       "    </tr>\n",
       "    <tr>\n",
       "      <th>Annual Income</th>\n",
       "      <td>20.760000</td>\n",
       "    </tr>\n",
       "    <tr>\n",
       "      <th>Credit Score</th>\n",
       "      <td>20.760000</td>\n",
       "    </tr>\n",
       "    <tr>\n",
       "      <th>Years in current job</th>\n",
       "      <td>4.946667</td>\n",
       "    </tr>\n",
       "    <tr>\n",
       "      <th>Bankruptcies</th>\n",
       "      <td>0.186667</td>\n",
       "    </tr>\n",
       "  </tbody>\n",
       "</table>\n",
       "</div>"
      ],
      "text/plain": [
       "                              Missing Ratio\n",
       "Months since last delinquent      54.413333\n",
       "Annual Income                     20.760000\n",
       "Credit Score                      20.760000\n",
       "Years in current job               4.946667\n",
       "Bankruptcies                       0.186667"
      ]
     },
     "execution_count": 9,
     "metadata": {},
     "output_type": "execute_result"
    }
   ],
   "source": [
    "all_data = df_train.reset_index(drop=True)\n",
    "print(f'all_data size is : {all_data.shape}')\n",
    "all_data_na = (all_data.isnull().sum() / len(all_data)) * 100\n",
    "all_data_na = all_data_na.drop(\n",
    "    all_data_na[all_data_na == 0].index).sort_values(ascending=False)\n",
    "missing_data = pd.DataFrame({'Missing Ratio': all_data_na})\n",
    "missing_data"
   ]
  },
  {
   "cell_type": "code",
   "execution_count": 10,
   "metadata": {},
   "outputs": [
    {
     "name": "stdout",
     "output_type": "stream",
     "text": [
      "0        482087.0\n",
      "1       1025487.0\n",
      "2        751412.0\n",
      "3        805068.0\n",
      "4        776264.0\n",
      "          ...    \n",
      "7495     402192.0\n",
      "7496    1533984.0\n",
      "7497    1878910.0\n",
      "7498          NaN\n",
      "7499          NaN\n",
      "Name: Annual Income, Length: 7500, dtype: float64\n"
     ]
    }
   ],
   "source": [
    "print(pd.to_numeric(df_train['Annual Income'],downcast='integer'))"
   ]
  },
  {
   "cell_type": "markdown",
   "metadata": {},
   "source": [
    "### Подготовка и очистка данных датасета"
   ]
  },
  {
   "cell_type": "code",
   "execution_count": 11,
   "metadata": {},
   "outputs": [
    {
     "data": {
      "text/plain": [
       "array([nan, 10.,  8.,  6.,  7.,  5.,  1.,  0.,  4.,  3.,  2.,  9.])"
      ]
     },
     "execution_count": 11,
     "metadata": {},
     "output_type": "execute_result"
    }
   ],
   "source": [
    "\n",
    "df_train[['Home Ownership','Years in current job','Purpose','Term']].astype('string')\n",
    "\n",
    "cleanup_nums = {'Home Ownership':     {'Own Home': 0, 'Home Mortgage': 1, 'Rent':2, 'Have Mortgage':3},\n",
    "                'Years in current job':     {'< 1 year': 0, '1 year': 1, '2 years':2, '3 years':3,'4 years':4,'nan':11,\n",
    "                                             '5 years':5,'6 years':6,'7 years':7,'8 years':8,'9 years':9,'10+ years':10},\n",
    "                'Purpose':     {'debt consolidation': 0, 'other': 1, 'home improvements':2, 'take a trip':3,'buy a car':4,'small business':11,\n",
    "                                             'business loan':5,'wedding':6,'educational expenses':7,'buy house':8,'9 years':9,'medical bills':10,\n",
    "                               'moving':12,'major purchase':13,'vacation':14,'renewable energy':15},\n",
    "                'Term':     {'Short Term': 0, 'Long Term': 1}}\n",
    "df_train=df_train.replace(cleanup_nums)\n",
    "df_test=df_test.replace(cleanup_nums)\n",
    "df_train['Years in current job'].unique()\n"
   ]
  },
  {
   "cell_type": "code",
   "execution_count": 12,
   "metadata": {},
   "outputs": [],
   "source": [
    "df_train=df_fil_na(df_train,all_data_na.index)\n",
    "df_test=df_fil_na(df_test,all_data_na.index)"
   ]
  },
  {
   "cell_type": "markdown",
   "metadata": {},
   "source": [
    "##### Проверяем отражение проведенных изменений"
   ]
  },
  {
   "cell_type": "code",
   "execution_count": 13,
   "metadata": {
    "scrolled": true
   },
   "outputs": [
    {
     "name": "stdout",
     "output_type": "stream",
     "text": [
      "all_data size is : (7500, 17)\n"
     ]
    },
    {
     "data": {
      "text/html": [
       "<div>\n",
       "<style scoped>\n",
       "    .dataframe tbody tr th:only-of-type {\n",
       "        vertical-align: middle;\n",
       "    }\n",
       "\n",
       "    .dataframe tbody tr th {\n",
       "        vertical-align: top;\n",
       "    }\n",
       "\n",
       "    .dataframe thead th {\n",
       "        text-align: right;\n",
       "    }\n",
       "</style>\n",
       "<table border=\"1\" class=\"dataframe\">\n",
       "  <thead>\n",
       "    <tr style=\"text-align: right;\">\n",
       "      <th></th>\n",
       "      <th>Missing Ratio</th>\n",
       "    </tr>\n",
       "  </thead>\n",
       "  <tbody>\n",
       "  </tbody>\n",
       "</table>\n",
       "</div>"
      ],
      "text/plain": [
       "Empty DataFrame\n",
       "Columns: [Missing Ratio]\n",
       "Index: []"
      ]
     },
     "execution_count": 13,
     "metadata": {},
     "output_type": "execute_result"
    }
   ],
   "source": [
    "all_data = df_train.reset_index(drop=True)\n",
    "print(f'all_data size is : {all_data.shape}')\n",
    "all_data_na = (all_data.isnull().sum() / len(all_data)) * 100\n",
    "all_data_na = all_data_na.drop(\n",
    "    all_data_na[all_data_na == 0].index).sort_values(ascending=False)\n",
    "missing_data = pd.DataFrame({'Missing Ratio': all_data_na})\n",
    "missing_data"
   ]
  },
  {
   "cell_type": "code",
   "execution_count": 14,
   "metadata": {},
   "outputs": [
    {
     "name": "stdout",
     "output_type": "stream",
     "text": [
      "0       4.820870e+05\n",
      "1       1.025487e+06\n",
      "2       7.514120e+05\n",
      "3       8.050680e+05\n",
      "4       7.762640e+05\n",
      "            ...     \n",
      "7495    4.021920e+05\n",
      "7496    1.533984e+06\n",
      "7497    1.878910e+06\n",
      "7498    1.366392e+06\n",
      "7499    1.366392e+06\n",
      "Name: Annual Income, Length: 7500, dtype: float64\n"
     ]
    }
   ],
   "source": [
    "print(pd.to_numeric(df_train['Annual Income'],downcast='integer'))"
   ]
  },
  {
   "cell_type": "code",
   "execution_count": 15,
   "metadata": {},
   "outputs": [
    {
     "data": {
      "text/plain": [
       "array([ 5.88034787, 10.        ,  8.        ,  6.        ,  7.        ,\n",
       "        5.        ,  1.        ,  0.        ,  4.        ,  3.        ,\n",
       "        2.        ,  9.        ])"
      ]
     },
     "execution_count": 15,
     "metadata": {},
     "output_type": "execute_result"
    }
   ],
   "source": [
    "df_train['Years in current job'].unique()"
   ]
  },
  {
   "cell_type": "markdown",
   "metadata": {},
   "source": [
    "### Оптимизация используемых типов данных"
   ]
  },
  {
   "cell_type": "code",
   "execution_count": 16,
   "metadata": {},
   "outputs": [
    {
     "data": {
      "text/plain": [
       "Home Ownership                    int64\n",
       "Annual Income                   float64\n",
       "Years in current job            float64\n",
       "Tax Liens                       float64\n",
       "Number of Open Accounts         float64\n",
       "Years of Credit History         float64\n",
       "Maximum Open Credit             float64\n",
       "Number of Credit Problems       float64\n",
       "Months since last delinquent    float64\n",
       "Bankruptcies                    float64\n",
       "Purpose                           int64\n",
       "Term                              int64\n",
       "Current Loan Amount             float64\n",
       "Current Credit Balance          float64\n",
       "Monthly Debt                    float64\n",
       "Credit Score                    float64\n",
       "Credit Default                    int64\n",
       "dtype: object"
      ]
     },
     "execution_count": 16,
     "metadata": {},
     "output_type": "execute_result"
    }
   ],
   "source": [
    "df_train.dtypes"
   ]
  },
  {
   "cell_type": "code",
   "execution_count": 17,
   "metadata": {},
   "outputs": [],
   "source": [
    "df_train=data_prepare(df_train)\n",
    "df_test=data_prepare(df_test)"
   ]
  },
  {
   "cell_type": "code",
   "execution_count": 18,
   "metadata": {},
   "outputs": [
    {
     "data": {
      "text/plain": [
       "Home Ownership                    uint8\n",
       "Annual Income                   float32\n",
       "Years in current job            float32\n",
       "Tax Liens                       float32\n",
       "Number of Open Accounts         float32\n",
       "Years of Credit History         float32\n",
       "Maximum Open Credit             float32\n",
       "Number of Credit Problems       float32\n",
       "Months since last delinquent    float32\n",
       "Bankruptcies                    float32\n",
       "Purpose                           uint8\n",
       "Term                              uint8\n",
       "Current Loan Amount             float32\n",
       "Current Credit Balance          float32\n",
       "Monthly Debt                    float32\n",
       "Credit Score                    float32\n",
       "Credit Default                    uint8\n",
       "dtype: object"
      ]
     },
     "execution_count": 18,
     "metadata": {},
     "output_type": "execute_result"
    }
   ],
   "source": [
    "df_train.dtypes"
   ]
  },
  {
   "cell_type": "markdown",
   "metadata": {},
   "source": [
    "### Подготовка наборов даанных для обучения"
   ]
  },
  {
   "cell_type": "code",
   "execution_count": 19,
   "metadata": {},
   "outputs": [],
   "source": [
    "TARGET_NAME = 'Credit Default'\n",
    "SELECTED_FEATURE_NAMES =['Number of Open Accounts',\n",
    "                         'Term','Purpose',\n",
    "                         'Years in current job',\n",
    "                         'Home Ownership',\n",
    "                         'Annual Income',\n",
    "                         'Tax Liens',\n",
    "                         'Years of Credit History',\n",
    "                         'Maximum Open Credit',\n",
    "                         'Number of Credit Problems',\n",
    "                         'Months since last delinquent',\n",
    "                         'Bankruptcies',\n",
    "                         'Current Loan Amount',\n",
    "                         'Current Credit Balance',\n",
    "                         'Monthly Debt','Credit Score']"
   ]
  },
  {
   "cell_type": "code",
   "execution_count": 20,
   "metadata": {},
   "outputs": [],
   "source": [
    "X = df_train[SELECTED_FEATURE_NAMES]\n",
    "y = df_train[TARGET_NAME]\n",
    "X_train, X_test, y_train, y_test = train_test_split(X, y, shuffle=True, test_size=0.30, random_state=21)"
   ]
  },
  {
   "cell_type": "markdown",
   "metadata": {},
   "source": [
    "### Балансировка классов"
   ]
  },
  {
   "cell_type": "code",
   "execution_count": 21,
   "metadata": {},
   "outputs": [
    {
     "data": {
      "text/plain": [
       "0    5387\n",
       "1    2113\n",
       "Name: Credit Default, dtype: int64"
      ]
     },
     "execution_count": 21,
     "metadata": {},
     "output_type": "execute_result"
    }
   ],
   "source": [
    "df_train['Credit Default'].value_counts()"
   ]
  },
  {
   "cell_type": "code",
   "execution_count": 22,
   "metadata": {},
   "outputs": [
    {
     "data": {
      "text/plain": [
       "0    3771\n",
       "1    2958\n",
       "Name: Credit Default, dtype: int64"
      ]
     },
     "execution_count": 22,
     "metadata": {},
     "output_type": "execute_result"
    }
   ],
   "source": [
    "df_for_balancing = pd.concat([X_train, y_train], axis=1)\n",
    "df_balanced = balance_df_by_target(df_for_balancing, TARGET_NAME)\n",
    "    \n",
    "df_balanced[TARGET_NAME].value_counts()"
   ]
  },
  {
   "cell_type": "code",
   "execution_count": 23,
   "metadata": {},
   "outputs": [],
   "source": [
    "X_train = df_balanced.drop(columns=TARGET_NAME)\n",
    "y_train = df_balanced[TARGET_NAME]"
   ]
  },
  {
   "cell_type": "markdown",
   "metadata": {},
   "source": [
    "### Анализ предсказаний полученных на различных моделях обучения"
   ]
  },
  {
   "cell_type": "markdown",
   "metadata": {},
   "source": [
    "#### Модель KNeighborsClassifier"
   ]
  },
  {
   "cell_type": "code",
   "execution_count": 24,
   "metadata": {},
   "outputs": [
    {
     "name": "stdout",
     "output_type": "stream",
     "text": [
      "TRAIN\n",
      "\n",
      "              precision    recall  f1-score   support\n",
      "\n",
      "           0       0.81      0.69      0.75      3771\n",
      "           1       0.67      0.80      0.73      2958\n",
      "\n",
      "    accuracy                           0.74      6729\n",
      "   macro avg       0.74      0.74      0.74      6729\n",
      "weighted avg       0.75      0.74      0.74      6729\n",
      "\n",
      "TEST\n",
      "\n",
      "              precision    recall  f1-score   support\n",
      "\n",
      "           0       0.78      0.58      0.66      1616\n",
      "           1       0.35      0.58      0.44       634\n",
      "\n",
      "    accuracy                           0.58      2250\n",
      "   macro avg       0.56      0.58      0.55      2250\n",
      "weighted avg       0.66      0.58      0.60      2250\n",
      "\n",
      "CONFUSION MATRIX\n",
      "\n",
      "col_0             0    1\n",
      "Credit Default          \n",
      "0               934  682\n",
      "1               266  368\n"
     ]
    }
   ],
   "source": [
    "model_knn = KNeighborsClassifier(n_neighbors=7,n_jobs=-1)\n",
    "model_knn.fit(X_train, y_train)\n",
    "\n",
    "y_train_pred = model_knn.predict(X_train)\n",
    "y_test_pred = model_knn.predict(X_test)\n",
    "\n",
    "get_classification_report(y_train, y_train_pred, y_test, y_test_pred)"
   ]
  },
  {
   "cell_type": "markdown",
   "metadata": {},
   "source": [
    "#### Модель SGDClassifier"
   ]
  },
  {
   "cell_type": "code",
   "execution_count": 25,
   "metadata": {},
   "outputs": [
    {
     "name": "stdout",
     "output_type": "stream",
     "text": [
      "TRAIN\n",
      "\n",
      "              precision    recall  f1-score   support\n",
      "\n",
      "           0       0.63      0.61      0.62      3771\n",
      "           1       0.52      0.54      0.53      2958\n",
      "\n",
      "    accuracy                           0.58      6729\n",
      "   macro avg       0.58      0.58      0.58      6729\n",
      "weighted avg       0.58      0.58      0.58      6729\n",
      "\n",
      "TEST\n",
      "\n",
      "              precision    recall  f1-score   support\n",
      "\n",
      "           0       0.76      0.60      0.67      1616\n",
      "           1       0.34      0.53      0.41       634\n",
      "\n",
      "    accuracy                           0.58      2250\n",
      "   macro avg       0.55      0.56      0.54      2250\n",
      "weighted avg       0.65      0.58      0.60      2250\n",
      "\n",
      "CONFUSION MATRIX\n",
      "\n",
      "col_0             0    1\n",
      "Credit Default          \n",
      "0               974  642\n",
      "1               300  334\n"
     ]
    }
   ],
   "source": [
    "model_sgd = SGDClassifier(learning_rate='adaptive',eta0=0.1,class_weight=\"balanced\",n_jobs=-1)\n",
    "model_sgd.fit(X_train, y_train)\n",
    "y_train_pred = model_sgd.predict(X_train)\n",
    "y_test_pred = model_sgd.predict(X_test)\n",
    "get_classification_report(y_train, y_train_pred, y_test, y_test_pred)"
   ]
  },
  {
   "cell_type": "markdown",
   "metadata": {},
   "source": [
    "#### Модель RidgeClassifier"
   ]
  },
  {
   "cell_type": "code",
   "execution_count": 26,
   "metadata": {},
   "outputs": [
    {
     "name": "stdout",
     "output_type": "stream",
     "text": [
      "TRAIN\n",
      "\n",
      "              precision    recall  f1-score   support\n",
      "\n",
      "           0       0.69      0.79      0.74      3771\n",
      "           1       0.68      0.56      0.61      2958\n",
      "\n",
      "    accuracy                           0.69      6729\n",
      "   macro avg       0.69      0.67      0.68      6729\n",
      "weighted avg       0.69      0.69      0.68      6729\n",
      "\n",
      "TEST\n",
      "\n",
      "              precision    recall  f1-score   support\n",
      "\n",
      "           0       0.82      0.79      0.80      1616\n",
      "           1       0.50      0.56      0.53       634\n",
      "\n",
      "    accuracy                           0.72      2250\n",
      "   macro avg       0.66      0.67      0.67      2250\n",
      "weighted avg       0.73      0.72      0.72      2250\n",
      "\n",
      "CONFUSION MATRIX\n",
      "\n",
      "col_0              0    1\n",
      "Credit Default           \n",
      "0               1270  346\n",
      "1                282  352\n"
     ]
    }
   ],
   "source": [
    "model_lrcv = RidgeClassifier(class_weight=\"balanced\", normalize=True)\n",
    "model_lrcv.fit(X_train, y_train)\n",
    "\n",
    "y_train_pred = model_lrcv.predict(X_train)\n",
    "y_test_pred = model_lrcv.predict(X_test)\n",
    "\n",
    "get_classification_report(y_train, y_train_pred, y_test, y_test_pred)"
   ]
  },
  {
   "cell_type": "markdown",
   "metadata": {},
   "source": [
    "#### Модель LogisticRegression"
   ]
  },
  {
   "cell_type": "code",
   "execution_count": 27,
   "metadata": {},
   "outputs": [
    {
     "name": "stdout",
     "output_type": "stream",
     "text": [
      "TRAIN\n",
      "\n",
      "              precision    recall  f1-score   support\n",
      "\n",
      "           0       0.72      0.72      0.72      3771\n",
      "           1       0.64      0.64      0.64      2958\n",
      "\n",
      "    accuracy                           0.69      6729\n",
      "   macro avg       0.68      0.68      0.68      6729\n",
      "weighted avg       0.69      0.69      0.69      6729\n",
      "\n",
      "TEST\n",
      "\n",
      "              precision    recall  f1-score   support\n",
      "\n",
      "           0       0.84      0.70      0.77      1616\n",
      "           1       0.47      0.66      0.55       634\n",
      "\n",
      "    accuracy                           0.69      2250\n",
      "   macro avg       0.65      0.68      0.66      2250\n",
      "weighted avg       0.73      0.69      0.70      2250\n",
      "\n",
      "CONFUSION MATRIX\n",
      "\n",
      "col_0              0    1\n",
      "Credit Default           \n",
      "0               1137  479\n",
      "1                216  418\n"
     ]
    }
   ],
   "source": [
    "\n",
    "    model_lr = LogisticRegression(C=0.1, penalty='l1', solver='liblinear',class_weight=\"balanced\")\n",
    "    model_lr.fit(X_train, y_train)\n",
    "\n",
    "    y_train_pred = model_lr.predict(X_train)\n",
    "    y_test_pred = model_lr.predict(X_test)\n",
    "\n",
    "    get_classification_report(y_train, y_train_pred, y_test, y_test_pred)"
   ]
  },
  {
   "cell_type": "markdown",
   "metadata": {},
   "source": [
    "#### Модель XGBClassifier"
   ]
  },
  {
   "cell_type": "code",
   "execution_count": 28,
   "metadata": {},
   "outputs": [],
   "source": [
    "from sklearn.utils import class_weight\n",
    "class_weights = list(class_weight.compute_class_weight('balanced',\n",
    "                                             np.unique(df_train[TARGET_NAME]),\n",
    "                                             df_train[TARGET_NAME]))\n",
    "\n",
    "w_array = np.ones(y_train.shape[0], dtype = 'float')\n",
    "for i, val in enumerate(y_train):\n",
    "    w_array[i] = class_weights[val-1]\n"
   ]
  },
  {
   "cell_type": "code",
   "execution_count": 29,
   "metadata": {},
   "outputs": [
    {
     "name": "stdout",
     "output_type": "stream",
     "text": [
      "[16:50:19] WARNING: D:\\bld\\xgboost-split_1631904903843\\work\\src\\learner.cc:1095: Starting in XGBoost 1.3.0, the default evaluation metric used with the objective 'binary:logistic' was changed from 'error' to 'logloss'. Explicitly set eval_metric if you'd like to restore the old behavior.\n",
      "TRAIN\n",
      "\n",
      "              precision    recall  f1-score   support\n",
      "\n",
      "           0       0.77      0.85      0.81      3771\n",
      "           1       0.78      0.68      0.73      2958\n",
      "\n",
      "    accuracy                           0.77      6729\n",
      "   macro avg       0.78      0.76      0.77      6729\n",
      "weighted avg       0.78      0.77      0.77      6729\n",
      "\n",
      "TEST\n",
      "\n",
      "              precision    recall  f1-score   support\n",
      "\n",
      "           0       0.82      0.80      0.81      1616\n",
      "           1       0.52      0.54      0.53       634\n",
      "\n",
      "    accuracy                           0.73      2250\n",
      "   macro avg       0.67      0.67      0.67      2250\n",
      "weighted avg       0.73      0.73      0.73      2250\n",
      "\n",
      "CONFUSION MATRIX\n",
      "\n",
      "col_0              0    1\n",
      "Credit Default           \n",
      "0               1299  317\n",
      "1                289  345\n"
     ]
    }
   ],
   "source": [
    "\n",
    "model_xgb = xgb.XGBClassifier(max_depth=4,\n",
    "            #num_leaves=1000,\n",
    "            learning_rate=1,\n",
    "            n_estimators=900,            \n",
    "            max_delta_step=0.01,\n",
    "            subsample=0.075,\n",
    "            objective='binary:logistic',            \n",
    "            gamma=0,\n",
    "            min_child_weight=1,            \n",
    "            colsample_bytree=0.7,\n",
    "            colsample_bylevel=1,\n",
    "            reg_alpha=0.,\n",
    "            reg_lambda=0.,\n",
    "            scale_pos_weight=1,\n",
    "            seed=100, \n",
    "            nthread=-1)                            \n",
    "model_xgb.fit(X_train, y_train)#,sample_weight=w_array)\n",
    "\n",
    "y_train_pred = model_xgb.predict(X_train)\n",
    "y_test_pred = model_xgb.predict(X_test)\n",
    "\n",
    "get_classification_report(y_train, y_train_pred, y_test, y_test_pred)"
   ]
  },
  {
   "cell_type": "markdown",
   "metadata": {},
   "source": [
    "#### Модель LGBMClassifier"
   ]
  },
  {
   "cell_type": "code",
   "execution_count": 30,
   "metadata": {},
   "outputs": [
    {
     "name": "stdout",
     "output_type": "stream",
     "text": [
      "[1]\tvalid_0's binary_logloss: 0.678842\n",
      "[2]\tvalid_0's binary_logloss: 0.666404\n",
      "[3]\tvalid_0's binary_logloss: 0.655377\n",
      "[4]\tvalid_0's binary_logloss: 0.645765\n",
      "[5]\tvalid_0's binary_logloss: 0.63712\n",
      "[6]\tvalid_0's binary_logloss: 0.62938\n",
      "[7]\tvalid_0's binary_logloss: 0.622428\n",
      "[8]\tvalid_0's binary_logloss: 0.616177\n",
      "[9]\tvalid_0's binary_logloss: 0.610554\n",
      "[10]\tvalid_0's binary_logloss: 0.605179\n",
      "[11]\tvalid_0's binary_logloss: 0.600435\n",
      "[12]\tvalid_0's binary_logloss: 0.596023\n",
      "[13]\tvalid_0's binary_logloss: 0.592124\n",
      "[14]\tvalid_0's binary_logloss: 0.588844\n",
      "[15]\tvalid_0's binary_logloss: 0.585456\n",
      "[16]\tvalid_0's binary_logloss: 0.582443\n",
      "[17]\tvalid_0's binary_logloss: 0.579923\n",
      "[18]\tvalid_0's binary_logloss: 0.576915\n",
      "[19]\tvalid_0's binary_logloss: 0.574812\n",
      "[20]\tvalid_0's binary_logloss: 0.572622\n",
      "[21]\tvalid_0's binary_logloss: 0.570674\n",
      "[22]\tvalid_0's binary_logloss: 0.568388\n",
      "[23]\tvalid_0's binary_logloss: 0.566878\n",
      "[24]\tvalid_0's binary_logloss: 0.565128\n",
      "[25]\tvalid_0's binary_logloss: 0.563864\n",
      "[26]\tvalid_0's binary_logloss: 0.562109\n",
      "[27]\tvalid_0's binary_logloss: 0.560758\n",
      "[28]\tvalid_0's binary_logloss: 0.559429\n",
      "[29]\tvalid_0's binary_logloss: 0.558376\n",
      "[30]\tvalid_0's binary_logloss: 0.557509\n",
      "[31]\tvalid_0's binary_logloss: 0.556391\n",
      "[32]\tvalid_0's binary_logloss: 0.555155\n",
      "[33]\tvalid_0's binary_logloss: 0.5544\n",
      "[34]\tvalid_0's binary_logloss: 0.553508\n",
      "[35]\tvalid_0's binary_logloss: 0.55295\n",
      "[36]\tvalid_0's binary_logloss: 0.552311\n",
      "[37]\tvalid_0's binary_logloss: 0.551659\n",
      "[38]\tvalid_0's binary_logloss: 0.55107\n",
      "[39]\tvalid_0's binary_logloss: 0.550351\n",
      "[40]\tvalid_0's binary_logloss: 0.549855\n",
      "[41]\tvalid_0's binary_logloss: 0.549482\n",
      "[42]\tvalid_0's binary_logloss: 0.548757\n",
      "[43]\tvalid_0's binary_logloss: 0.548449\n",
      "[44]\tvalid_0's binary_logloss: 0.547944\n",
      "[45]\tvalid_0's binary_logloss: 0.547363\n",
      "[46]\tvalid_0's binary_logloss: 0.547136\n",
      "[47]\tvalid_0's binary_logloss: 0.546419\n",
      "[48]\tvalid_0's binary_logloss: 0.545989\n",
      "[49]\tvalid_0's binary_logloss: 0.545833\n",
      "[50]\tvalid_0's binary_logloss: 0.545464\n",
      "[51]\tvalid_0's binary_logloss: 0.545099\n",
      "[52]\tvalid_0's binary_logloss: 0.545041\n",
      "[53]\tvalid_0's binary_logloss: 0.545004\n",
      "[54]\tvalid_0's binary_logloss: 0.544733\n",
      "[55]\tvalid_0's binary_logloss: 0.544472\n",
      "[56]\tvalid_0's binary_logloss: 0.544224\n",
      "[57]\tvalid_0's binary_logloss: 0.544023\n",
      "[58]\tvalid_0's binary_logloss: 0.543958\n",
      "[59]\tvalid_0's binary_logloss: 0.543649\n",
      "[60]\tvalid_0's binary_logloss: 0.543248\n",
      "[61]\tvalid_0's binary_logloss: 0.543081\n",
      "[62]\tvalid_0's binary_logloss: 0.542778\n",
      "[63]\tvalid_0's binary_logloss: 0.542895\n",
      "[64]\tvalid_0's binary_logloss: 0.54293\n",
      "[65]\tvalid_0's binary_logloss: 0.542933\n",
      "[66]\tvalid_0's binary_logloss: 0.542817\n",
      "[67]\tvalid_0's binary_logloss: 0.542684\n",
      "[68]\tvalid_0's binary_logloss: 0.542666\n",
      "[69]\tvalid_0's binary_logloss: 0.542817\n",
      "[70]\tvalid_0's binary_logloss: 0.542447\n",
      "TRAIN\n",
      "\n",
      "              precision    recall  f1-score   support\n",
      "\n",
      "           0       0.74      0.76      0.75      3771\n",
      "           1       0.68      0.65      0.67      2958\n",
      "\n",
      "    accuracy                           0.71      6729\n",
      "   macro avg       0.71      0.71      0.71      6729\n",
      "weighted avg       0.71      0.71      0.71      6729\n",
      "\n",
      "TEST\n",
      "\n",
      "              precision    recall  f1-score   support\n",
      "\n",
      "           0       0.83      0.75      0.79      1616\n",
      "           1       0.49      0.62      0.55       634\n",
      "\n",
      "    accuracy                           0.71      2250\n",
      "   macro avg       0.66      0.68      0.67      2250\n",
      "weighted avg       0.74      0.71      0.72      2250\n",
      "\n",
      "CONFUSION MATRIX\n",
      "\n",
      "col_0              0    1\n",
      "Credit Default           \n",
      "0               1204  412\n",
      "1                238  396\n"
     ]
    }
   ],
   "source": [
    "    booster = lgb.LGBMClassifier( class_weight='balanced', \n",
    "                            num_leaves=5, \n",
    "                            num_iterations=70, \n",
    "                            random_state=30,\n",
    "                            learning_rate=0.07, \n",
    "                            max_depth=6,\n",
    "                            silent=True)\n",
    "    \n",
    "    booster.fit(X_train, y_train, eval_set=[(X_test, y_test),])\n",
    "\n",
    "    y_train_pred = booster.predict(X_train)\n",
    "    y_test_pred = booster.predict(X_test)\n",
    "\n",
    "    get_classification_report(y_train, y_train_pred, y_test, y_test_pred)"
   ]
  },
  {
   "cell_type": "markdown",
   "metadata": {},
   "source": [
    "#### Модель CatBoostClassifier"
   ]
  },
  {
   "cell_type": "code",
   "execution_count": 31,
   "metadata": {
    "scrolled": true
   },
   "outputs": [
    {
     "name": "stdout",
     "output_type": "stream",
     "text": [
      "TRAIN\n",
      "\n",
      "              precision    recall  f1-score   support\n",
      "\n",
      "           0       0.79      0.91      0.84      3771\n",
      "           1       0.85      0.69      0.76      2958\n",
      "\n",
      "    accuracy                           0.81      6729\n",
      "   macro avg       0.82      0.80      0.80      6729\n",
      "weighted avg       0.82      0.81      0.81      6729\n",
      "\n",
      "TEST\n",
      "\n",
      "              precision    recall  f1-score   support\n",
      "\n",
      "           0       0.81      0.84      0.83      1616\n",
      "           1       0.55      0.50      0.52       634\n",
      "\n",
      "    accuracy                           0.75      2250\n",
      "   macro avg       0.68      0.67      0.68      2250\n",
      "weighted avg       0.74      0.75      0.74      2250\n",
      "\n",
      "CONFUSION MATRIX\n",
      "\n",
      "col_0              0    1\n",
      "Credit Default           \n",
      "0               1363  253\n",
      "1                319  315\n"
     ]
    },
    {
     "data": {
      "text/plain": [
       "0.8123049487293803"
      ]
     },
     "execution_count": 31,
     "metadata": {},
     "output_type": "execute_result"
    }
   ],
   "source": [
    "    CatBoost = cb.CatBoostClassifier(n_estimators=150,silent=True)\n",
    "    CatBoost.fit(X_train, y_train)\n",
    "\n",
    "    y_train_pred = CatBoost.predict(X_train)\n",
    "    y_test_pred = CatBoost.predict(X_test)\n",
    "    \n",
    "    y_test_pred_probs = CatBoost.predict_proba(X_test)\n",
    "    get_classification_report(y_train, y_train_pred, y_test, y_test_pred)\n",
    "CatBoost.score(X_train, y_train)"
   ]
  },
  {
   "cell_type": "markdown",
   "metadata": {},
   "source": [
    "### Подбор оптимального размера выборки, кривая обучения"
   ]
  },
  {
   "cell_type": "code",
   "execution_count": 32,
   "metadata": {},
   "outputs": [],
   "source": [
    "CatBoost = cb.CatBoostClassifier(n_estimators=150,\n",
    "                                      class_weights=[1, 3.5],\n",
    "                                      silent=True)"
   ]
  },
  {
   "cell_type": "code",
   "execution_count": 33,
   "metadata": {},
   "outputs": [
    {
     "data": {
      "image/png": "[encoded data removed]",
      "text/plain": [
       "<Figure size 1080x576 with 1 Axes>"
      ]
     },
     "metadata": {
      "needs_background": "light"
     },
     "output_type": "display_data"
    }
   ],
   "source": [
    "show_learning_curve_plot(CatBoost, X, y)"
   ]
  },
  {
   "cell_type": "markdown",
   "metadata": {},
   "source": [
    "### Выбор порога вероятности для определения класса"
   ]
  },
  {
   "cell_type": "code",
   "execution_count": 34,
   "metadata": {},
   "outputs": [
    {
     "data": {
      "image/png": "[encoded data removed]",
      "text/plain": [
       "<Figure size 1080x360 with 2 Axes>"
      ]
     },
     "metadata": {
      "needs_background": "light"
     },
     "output_type": "display_data"
    }
   ],
   "source": [
    "show_proba_calibration_plots(y_test_pred_probs[:, 1], y_test)"
   ]
  },
  {
   "cell_type": "code",
   "execution_count": 39,
   "metadata": {},
   "outputs": [
    {
     "data": {
      "image/png": "[encoded data removed]",
      "text/plain": [
       "<Figure size 1440x408.96 with 1 Axes>"
      ]
     },
     "metadata": {
      "needs_background": "light"
     },
     "output_type": "display_data"
    }
   ],
   "source": [
    "important_features_top = show_feature_importances(X_train.columns, CatBoost.feature_importances_,get_top=10)"
   ]
  },
  {
   "cell_type": "code",
   "execution_count": 36,
   "metadata": {},
   "outputs": [
    {
     "data": {
      "text/plain": [
       "['Number of Open Accounts',\n",
       " 'Term',\n",
       " 'Purpose',\n",
       " 'Years in current job',\n",
       " 'Home Ownership',\n",
       " 'Annual Income',\n",
       " 'Tax Liens',\n",
       " 'Years of Credit History',\n",
       " 'Maximum Open Credit',\n",
       " 'Number of Credit Problems']"
      ]
     },
     "execution_count": 36,
     "metadata": {},
     "output_type": "execute_result"
    }
   ],
   "source": [
    "important_features_top"
   ]
  },
  {
   "cell_type": "markdown",
   "metadata": {},
   "source": [
    "### Выбор оптимальной модели и параметров"
   ]
  },
  {
   "cell_type": "code",
   "execution_count": 37,
   "metadata": {},
   "outputs": [
    {
     "name": "stdout",
     "output_type": "stream",
     "text": [
      "TRAIN\n",
      "\n",
      "              precision    recall  f1-score   support\n",
      "\n",
      "           0       0.79      0.79      0.79      3771\n",
      "           1       0.74      0.73      0.73      2958\n",
      "\n",
      "    accuracy                           0.77      6729\n",
      "   macro avg       0.76      0.76      0.76      6729\n",
      "weighted avg       0.77      0.77      0.77      6729\n",
      "\n",
      "TEST\n",
      "\n",
      "              precision    recall  f1-score   support\n",
      "\n",
      "           0       0.83      0.75      0.79      1616\n",
      "           1       0.49      0.62      0.55       634\n",
      "\n",
      "    accuracy                           0.71      2250\n",
      "   macro avg       0.66      0.68      0.67      2250\n",
      "weighted avg       0.74      0.71      0.72      2250\n",
      "\n",
      "CONFUSION MATRIX\n",
      "\n",
      "col_0              0    1\n",
      "Credit Default           \n",
      "0               1212  404\n",
      "1                241  393\n"
     ]
    },
    {
     "data": {
      "text/plain": [
       "0.7657898647644523"
      ]
     },
     "execution_count": 37,
     "metadata": {},
     "output_type": "execute_result"
    }
   ],
   "source": [
    "classes = np.unique(y_train)\n",
    "weights = compute_class_weight(class_weight='balanced', classes=classes, y=y_train)\n",
    "class_weights = dict(zip(classes, weights))\n",
    "CatBoost = cb.CatBoostClassifier(n_estimators=215, \n",
    "                                     depth=6,\n",
    "                                     class_weights=class_weights,\n",
    "                                     l2_leaf_reg=9, \n",
    "                                     thread_count=-1,\n",
    "                                     random_state=50,\n",
    "                                     silent=True)\n",
    "CatBoost.fit(X_train, y_train)\n",
    "\n",
    "y_train_pred = CatBoost.predict(X_train)\n",
    "y_test_pred = CatBoost.predict(X_test)\n",
    "y_test_pred_probs = CatBoost.predict_proba(X_test)\n",
    "get_classification_report(y_train, y_train_pred, y_test, y_test_pred)\n",
    "CatBoost.score(X_train, y_train)"
   ]
  },
  {
   "cell_type": "markdown",
   "metadata": {},
   "source": [
    "### Сохранение предсказаний"
   ]
  },
  {
   "cell_type": "code",
   "execution_count": 38,
   "metadata": {},
   "outputs": [],
   "source": [
    "y_pred = CatBoost.predict(df_test)\n",
    "save = pd.DataFrame(y_pred)\n",
    "save.to_csv('Rogochiy_predictions.csv', index=None)"
   ]
  },
  {
   "cell_type": "code",
   "execution_count": null,
   "metadata": {},
   "outputs": [],
   "source": []
  }
 ],
 "metadata": {
  "kernelspec": {
   "display_name": "Python 3",
   "language": "python",
   "name": "python3"
  },
  "language_info": {
   "codemirror_mode": {
    "name": "ipython",
    "version": 3
   },
   "file_extension": ".py",
   "mimetype": "text/x-python",
   "name": "python",
   "nbconvert_exporter": "python",
   "pygments_lexer": "ipython3",
   "version": "3.8.8"
  }
 },
 "nbformat": 4,
 "nbformat_minor": 2
}
